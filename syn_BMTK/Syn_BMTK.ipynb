{
 "cells": [
  {
   "cell_type": "code",
   "execution_count": 1,
   "metadata": {},
   "outputs": [],
   "source": [
    "from bmtk.builder.networks import NetworkBuilder\n",
    "from bmtk.utils.sim_setup import build_env_bionet\n",
    "import json\n",
    "from edit_genome import process_json\n",
    "from bmtk.simulator import bionet\n",
    "from bmtk.analyzer.spike_trains import to_dataframe\n",
    "from bmtk.analyzer.cell_vars import plot_report\n",
    "import os\n",
    "import shutil\n",
    "from neuron import h\n",
    "import ipywidgets as widgets\n",
    "from ipywidgets import HBox,VBox,Label,Layout\n",
    "from IPython.display import display\n",
    "%matplotlib inline"
   ]
  },
  {
   "cell_type": "code",
   "execution_count": 3,
   "metadata": {},
   "outputs": [
    {
     "data": {
      "text/plain": [
       "'\\nwith open(\"./simulation_config.json\",\\'r\\') as load_f:\\n        load_dict = json.load(load_f)\\n        #print(load_dict)\\n        load_dict[\\'inputs\\'] =  {\"current_clamp1\": {\\n        \"input_type\": \"current_clamp\",\\n        \"module\": \"IClamp\",\\n        \"node_set\": \"all\",\\n        \"amp\": 0.3,\\n        \"delay\": 300.0,\\n        \"duration\": 1000.0\\n        }\\n        }\\nwith open(\"./simulation_config.json\",\\'w\\') as dump_f:\\n    json.dump(load_dict,dump_f)\\n'"
      ]
     },
     "execution_count": 3,
     "metadata": {},
     "output_type": "execute_result"
    }
   ],
   "source": [
    "net = NetworkBuilder('BL')\n",
    "net.add_nodes(cell_name='BL',\n",
    "          potental='exc',\n",
    "          model_type='biophysical',\n",
    "          model_template='ctdb:Biophys1.hoc',\n",
    "          model_processing='aibs_allactive',\n",
    "          dynamics_params='BL_fit.json',\n",
    "          morphology='reconstruction.swc')\n",
    "shutil.rmtree('./network')\n",
    "\n",
    "net.build()\n",
    "net.save_nodes(output_dir='network')\n",
    "thalamus = NetworkBuilder('mthalamus')\n",
    "thalamus.add_nodes(N=10,\n",
    "                   pop_name='tON',\n",
    "                   potential='exc',\n",
    "                   model_type='virtual')\n",
    "\n",
    "thalamus.add_edges(source={'pop_name': 'tON'}, target=net.nodes(),\n",
    "                   connection_rule=5,\n",
    "                   syn_weight=0.001,\n",
    "                   delay=2.0,\n",
    "                   weight_function=None,\n",
    "                   target_sections=['basal', 'apical'],\n",
    "                   distance_range=[0.0, 150.0],\n",
    "                   dynamics_params='AMPA_ExcToExc.json',\n",
    "                   model_template='exp2syn')\n",
    "\n",
    "thalamus.build()\n",
    "thalamus.save_nodes(output_dir='network')\n",
    "thalamus.save_edges(output_dir='network')\n",
    "\n",
    "from bmtk.utils.reports.spike_trains import PoissonSpikeGenerator\n",
    "\n",
    "psg = PoissonSpikeGenerator(population='mthalamus')\n",
    "psg.add(node_ids=range(10),  # Have 10 nodes to match mthalamus\n",
    "        firing_rate=10.0,    # 10 Hz, we can also pass in a nonhomoegenous function/array\n",
    "        times=(0.0, 3.0))    # Firing starts at 0 s up to 3 s\n",
    "shutil.rmtree('./inputs')\n",
    "psg.to_sonata('inputs/mthalamus_spikes.h5')\n",
    "\n",
    "\n",
    "from bmtk.utils.sim_setup import build_env_bionet\n",
    "\n",
    "build_env_bionet(base_dir='.',      \n",
    "                 network_dir='network',\n",
    "                 tstop=3000.0, dt=0.1,\n",
    "                 report_vars=['v'],     # Record membrane potential and calcium (default soma)\n",
    "                 spikes_inputs=[('mthalamus',   # Name of population which spikes will be generated for\n",
    "                                './inputs/mthalamus_spikes.h5')]\n",
    "                )\n",
    "\n",
    "shutil.copy('sources/BL_fit.json','components/biophysical_neuron_models/')\n",
    "shutil.copy('sources/neuronal_model_491766131/reconstruction.swc','components/morphologies/')\n",
    "shutil.copy('sources/AMPA_ExcToExc.json','components/synaptic_models/')\n",
    "shutil.rmtree('components/mechanisms/')\n",
    "shutil.copytree('sources/modfiles','components/mechanisms/modfiles')\n",
    "shutil.copytree('sources/x86_64','components/mechanisms/x86_64')"
   ]
  },
  {
   "cell_type": "code",
   "execution_count": 5,
   "metadata": {},
   "outputs": [
    {
     "data": {
      "application/vnd.jupyter.widget-view+json": {
       "model_id": "21270b86610d4dc28811975681f3e636",
       "version_major": 2,
       "version_minor": 0
      },
      "text/plain": [
       "HBox(children=(VBox(children=(Label(value='Channels'),), layout=Layout(width='10%')), VBox(children=(Checkbox(…"
      ]
     },
     "metadata": {},
     "output_type": "display_data"
    }
   ],
   "source": [
    "filePath = './sources/modfiles'\n",
    "a = os.listdir(filePath)\n",
    "\n",
    "w_0 = widgets.Checkbox(value=False,description=a[2],disabled=False)\n",
    "w_1 = widgets.Checkbox(value=False,description=a[18],disabled=False)\n",
    "w_2 = widgets.Checkbox(value=False,description=a[12],disabled=False)\n",
    "\n",
    "def update_0(*args):\n",
    "    if w_0.value:\n",
    "        text0 = widgets.FloatText(\n",
    "            value=7.5,\n",
    "            description='NaP:',\n",
    "            disabled=False\n",
    "        )\n",
    "        value0 = text0.value\n",
    "        process_json('./components/biophysical_neuron_models/BL_fit.json','Nap',value0)\n",
    "        display(text0)\n",
    "def update_1(*args):\n",
    "    if w_1.value:\n",
    "        text1 = widgets.FloatText(\n",
    "            value=7.5,\n",
    "            description='Ih:',\n",
    "            disabled=False\n",
    "        )\n",
    "        value1 = text1.value\n",
    "        process_json('./components/biophysical_neuron_models/BL_fit.json','Ih',value1)\n",
    "        display(text1)        \n",
    "def update_2(*args):\n",
    "    if w_2.value:\n",
    "        text2 = widgets.FloatText(\n",
    "            value=7.5,\n",
    "            description='Im:',\n",
    "            disabled=False\n",
    "        )\n",
    "        value2 = text2.value\n",
    "        process_json('./components/biophysical_neuron_models/BL_fit.json','Im',value2)\n",
    "        display(text2)              \n",
    "        \n",
    "w_0.observe(update_0,'value')\n",
    "w_1.observe(update_1,'value')\n",
    "w_2.observe(update_2,'value')\n",
    "ui1 = HBox([VBox([Label('Channels')],layout=Layout(width='10%')),VBox([w_0,w_1,w_2],layout=Layout(width='38%'))])\n",
    "ui1"
   ]
  },
  {
   "cell_type": "code",
   "execution_count": 4,
   "metadata": {},
   "outputs": [
    {
     "name": "stdout",
     "output_type": "stream",
     "text": [
      "2019-10-04 18:03:19,742 [INFO] Created log file\n"
     ]
    },
    {
     "name": "stderr",
     "output_type": "stream",
     "text": [
      "INFO:NEURONIOUtils:Created log file\n"
     ]
    },
    {
     "name": "stdout",
     "output_type": "stream",
     "text": [
      "2019-10-04 18:03:19,935 [INFO] Building cells.\n"
     ]
    },
    {
     "name": "stderr",
     "output_type": "stream",
     "text": [
      "INFO:NEURONIOUtils:Building cells.\n"
     ]
    },
    {
     "name": "stdout",
     "output_type": "stream",
     "text": [
      "2019-10-04 18:03:20,490 [INFO] Building recurrent connections\n"
     ]
    },
    {
     "name": "stderr",
     "output_type": "stream",
     "text": [
      "INFO:NEURONIOUtils:Building recurrent connections\n"
     ]
    },
    {
     "name": "stdout",
     "output_type": "stream",
     "text": [
      "2019-10-04 18:03:20,493 [INFO] Building virtual cell stimulations for mthalamus_spikes\n"
     ]
    },
    {
     "name": "stderr",
     "output_type": "stream",
     "text": [
      "INFO:NEURONIOUtils:Building virtual cell stimulations for mthalamus_spikes\n"
     ]
    },
    {
     "name": "stdout",
     "output_type": "stream",
     "text": [
      "2019-10-04 18:03:20,682 [INFO] Running simulation for 3000.000 ms with the time step 0.100 ms\n"
     ]
    },
    {
     "name": "stderr",
     "output_type": "stream",
     "text": [
      "INFO:NEURONIOUtils:Running simulation for 3000.000 ms with the time step 0.100 ms\n"
     ]
    },
    {
     "name": "stdout",
     "output_type": "stream",
     "text": [
      "2019-10-04 18:03:20,685 [INFO] Starting timestep: 0 at t_sim: 0.000 ms\n"
     ]
    },
    {
     "name": "stderr",
     "output_type": "stream",
     "text": [
      "INFO:NEURONIOUtils:Starting timestep: 0 at t_sim: 0.000 ms\n"
     ]
    },
    {
     "name": "stdout",
     "output_type": "stream",
     "text": [
      "2019-10-04 18:03:20,688 [INFO] Block save every 5000 steps\n"
     ]
    },
    {
     "name": "stderr",
     "output_type": "stream",
     "text": [
      "INFO:NEURONIOUtils:Block save every 5000 steps\n"
     ]
    },
    {
     "name": "stdout",
     "output_type": "stream",
     "text": [
      "2019-10-04 18:03:21,069 [INFO]     step:5000 t_sim:500.00 ms\n"
     ]
    },
    {
     "name": "stderr",
     "output_type": "stream",
     "text": [
      "INFO:NEURONIOUtils:    step:5000 t_sim:500.00 ms\n"
     ]
    },
    {
     "name": "stdout",
     "output_type": "stream",
     "text": [
      "2019-10-04 18:03:21,400 [INFO]     step:10000 t_sim:1000.00 ms\n"
     ]
    },
    {
     "name": "stderr",
     "output_type": "stream",
     "text": [
      "INFO:NEURONIOUtils:    step:10000 t_sim:1000.00 ms\n"
     ]
    },
    {
     "name": "stdout",
     "output_type": "stream",
     "text": [
      "2019-10-04 18:03:21,784 [INFO]     step:15000 t_sim:1500.00 ms\n"
     ]
    },
    {
     "name": "stderr",
     "output_type": "stream",
     "text": [
      "INFO:NEURONIOUtils:    step:15000 t_sim:1500.00 ms\n"
     ]
    },
    {
     "name": "stdout",
     "output_type": "stream",
     "text": [
      "2019-10-04 18:03:22,120 [INFO]     step:20000 t_sim:2000.00 ms\n"
     ]
    },
    {
     "name": "stderr",
     "output_type": "stream",
     "text": [
      "INFO:NEURONIOUtils:    step:20000 t_sim:2000.00 ms\n"
     ]
    },
    {
     "name": "stdout",
     "output_type": "stream",
     "text": [
      "2019-10-04 18:03:22,403 [INFO]     step:25000 t_sim:2500.00 ms\n"
     ]
    },
    {
     "name": "stderr",
     "output_type": "stream",
     "text": [
      "INFO:NEURONIOUtils:    step:25000 t_sim:2500.00 ms\n"
     ]
    },
    {
     "name": "stdout",
     "output_type": "stream",
     "text": [
      "2019-10-04 18:03:22,688 [INFO]     step:30000 t_sim:3000.00 ms\n"
     ]
    },
    {
     "name": "stderr",
     "output_type": "stream",
     "text": [
      "INFO:NEURONIOUtils:    step:30000 t_sim:3000.00 ms\n"
     ]
    },
    {
     "name": "stdout",
     "output_type": "stream",
     "text": [
      "2019-10-04 18:03:22,700 [INFO] Simulation completed in 2.018 seconds \n"
     ]
    },
    {
     "name": "stderr",
     "output_type": "stream",
     "text": [
      "INFO:NEURONIOUtils:Simulation completed in 2.018 seconds \n"
     ]
    },
    {
     "data": {
      "image/png": "[encoded data removed]",
      "text/plain": [
       "<Figure size 432x288 with 1 Axes>"
      ]
     },
     "metadata": {
      "needs_background": "light"
     },
     "output_type": "display_data"
    }
   ],
   "source": [
    "from bmtk.simulator import bionet\n",
    "\n",
    "conf = bionet.Config.from_json('simulation_config.json')\n",
    "conf.build_env()\n",
    "net = bionet.BioNetwork.from_config(conf)\n",
    "sim = bionet.BioSimulator.from_config(conf, network=net)\n",
    "sim.run()\n",
    "\n",
    "from bmtk.analyzer.cell_vars import plot_report\n",
    "\n",
    "plot_report(config_file='simulation_config.json')"
   ]
  }
 ],
 "metadata": {
  "kernelspec": {
   "display_name": "Python 3",
   "language": "python",
   "name": "python3"
  },
  "language_info": {
   "codemirror_mode": {
    "name": "ipython",
    "version": 3
   },
   "file_extension": ".py",
   "mimetype": "text/x-python",
   "name": "python",
   "nbconvert_exporter": "python",
   "pygments_lexer": "ipython3",
   "version": "3.6.7"
  }
 },
 "nbformat": 4,
 "nbformat_minor": 2
}
